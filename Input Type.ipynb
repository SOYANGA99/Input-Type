{
 "cells": [
  {
   "cell_type": "code",
   "execution_count": 1,
   "id": "a7d48111",
   "metadata": {},
   "outputs": [
    {
     "name": "stdout",
     "output_type": "stream",
     "text": [
      "67\n",
      "<class 'str'>\n",
      "87\n",
      "<class 'int'>\n"
     ]
    }
   ],
   "source": [
    "input_a= input()\n",
    "print(type(input_a))\n",
    "input_b= int(input())\n",
    "print(type(input_b))\n"
   ]
  },
  {
   "cell_type": "code",
   "execution_count": null,
   "id": "adc7e157",
   "metadata": {},
   "outputs": [],
   "source": []
  }
 ],
 "metadata": {
  "kernelspec": {
   "display_name": "Python 3 (ipykernel)",
   "language": "python",
   "name": "python3"
  },
  "language_info": {
   "codemirror_mode": {
    "name": "ipython",
    "version": 3
   },
   "file_extension": ".py",
   "mimetype": "text/x-python",
   "name": "python",
   "nbconvert_exporter": "python",
   "pygments_lexer": "ipython3",
   "version": "3.9.7"
  }
 },
 "nbformat": 4,
 "nbformat_minor": 5
}
